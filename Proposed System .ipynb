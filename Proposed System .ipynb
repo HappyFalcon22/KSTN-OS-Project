{
 "cells": [
  {
   "cell_type": "code",
   "execution_count": 25,
   "metadata": {},
   "outputs": [
    {
     "name": "stdout",
     "output_type": "stream",
     "text": [
      "Found matched ID!\n",
      "Authentication failed!\n"
     ]
    }
   ],
   "source": [
    "from Crypto.Util.number import *\n",
    "import hashlib\n",
    "from pwn import xor\n",
    "import random\n",
    "\n",
    "id = \"HappyHacker22\"\n",
    "pw = \"HappyPhoenix32\"\n",
    "p = getPrime(512)\n",
    "sk = long_to_bytes(random.randrange(0, p))\n",
    "database = []\n",
    "n = 1\n",
    "def hash(s):\n",
    "    return hashlib.sha1(s).digest()\n",
    "\n",
    "\n",
    "def findID(db, id, sk):\n",
    "    for i in db:\n",
    "        if (hash(id.encode() + sk) in i):\n",
    "            return True\n",
    "    return False\n",
    "\n",
    "y = hash(hash(xor(pw, b\"\\x01\")))\n",
    "store = [hash(id.encode() + sk), y, n]\n",
    "database.append(store)\n",
    "\n",
    "#User side\n",
    "\n",
    "temp1 = hash(xor(pw, long_to_bytes(n)))\n",
    "temp2 = hash(hash(xor(pw, long_to_bytes(n))))\n",
    "c1 = xor(temp1, temp2)\n",
    "\n",
    "temp1 = hash(hash(xor(pw, long_to_bytes(n + 1))))\n",
    "temp2 = hash(xor(pw, long_to_bytes(n)))\n",
    "c2 = xor(temp1, temp2)\n",
    "\n",
    "c3 = hash(hash(hash(xor(pw, long_to_bytes(n + 1)))))\n",
    "\n",
    "# Server side\n",
    "\n",
    "received_id = \"HappyHacker22\"\n",
    "received_pw = \"HappyPhoenix22\"\n",
    "\n",
    "if (findID(database, received_id, sk)):\n",
    "    print(\"Found matched ID!\")\n",
    "    pw = received_pw\n",
    "\n",
    "    lhs1 = hash(xor(pw, long_to_bytes(n)))\n",
    "    rhs1 = xor(c1, hash(hash(xor(pw, long_to_bytes(n)))))\n",
    "\n",
    "    lhs2 = hash(hash(xor(pw, long_to_bytes(n + 1))))\n",
    "    rhs2 = xor(c2, hash(xor(pw, long_to_bytes(n))))\n",
    "\n",
    "    lhs3 = c3\n",
    "    rhs3 = hash(hash(hash(xor(pw, long_to_bytes(n + 1)))))\n",
    "\n",
    "    if ((lhs1 == rhs1) & (lhs2 == rhs2) & (lhs3 == rhs3)):\n",
    "        print(\"Authentication completed!\")\n",
    "    else:\n",
    "        print(\"Authentication failed!\")\n",
    "else:\n",
    "    print(\"Invalid ID!\")\n",
    "        \n",
    "\n"
   ]
  },
  {
   "cell_type": "code",
   "execution_count": null,
   "metadata": {},
   "outputs": [],
   "source": []
  }
 ],
 "metadata": {
  "kernelspec": {
   "display_name": "SageMath 9.0",
   "language": "sage",
   "name": "sagemath"
  },
  "language_info": {
   "codemirror_mode": {
    "name": "ipython",
    "version": 3
   },
   "file_extension": ".py",
   "mimetype": "text/x-python",
   "name": "python",
   "nbconvert_exporter": "python",
   "pygments_lexer": "ipython3",
   "version": "3.7.3"
  }
 },
 "nbformat": 4,
 "nbformat_minor": 2
}
